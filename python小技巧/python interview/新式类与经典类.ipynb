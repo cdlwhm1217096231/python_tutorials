{
 "cells": [
  {
   "cell_type": "markdown",
   "metadata": {},
   "source": [
    "### 1.经典类是直接声明的。使用dir()方法也可以看出新式类中定义很多新的属性和方法，而经典类就3个"
   ]
  },
  {
   "cell_type": "code",
   "execution_count": 13,
   "metadata": {},
   "outputs": [],
   "source": [
    "class A:\n",
    "    def __init__(self):\n",
    "        pass\n"
   ]
  },
  {
   "cell_type": "code",
   "execution_count": 2,
   "metadata": {},
   "outputs": [
    {
     "data": {
      "text/plain": [
       "['__doc__', '__init__', '__module__']"
      ]
     },
     "execution_count": 2,
     "metadata": {},
     "output_type": "execute_result"
    }
   ],
   "source": [
    "dir(A)"
   ]
  },
  {
   "cell_type": "markdown",
   "metadata": {},
   "source": [
    "### 2.新式类是在创建的时候继承内置object对象（或者是从内置类型，如list,dict等）"
   ]
  },
  {
   "cell_type": "code",
   "execution_count": 5,
   "metadata": {},
   "outputs": [],
   "source": [
    "class B(object):\n",
    "    def __init__(self):\n",
    "        pass"
   ]
  },
  {
   "cell_type": "code",
   "execution_count": 6,
   "metadata": {},
   "outputs": [
    {
     "data": {
      "text/plain": [
       "['__class__',\n",
       " '__delattr__',\n",
       " '__dict__',\n",
       " '__doc__',\n",
       " '__format__',\n",
       " '__getattribute__',\n",
       " '__hash__',\n",
       " '__init__',\n",
       " '__module__',\n",
       " '__new__',\n",
       " '__reduce__',\n",
       " '__reduce_ex__',\n",
       " '__repr__',\n",
       " '__setattr__',\n",
       " '__sizeof__',\n",
       " '__str__',\n",
       " '__subclasshook__',\n",
       " '__weakref__']"
      ]
     },
     "execution_count": 6,
     "metadata": {},
     "output_type": "execute_result"
    }
   ],
   "source": [
    "dir(B)"
   ]
  },
  {
   "cell_type": "markdown",
   "metadata": {},
   "source": [
    "### 3.python2.7下经典类搜索顺序-----深度优先顺序"
   ]
  },
  {
   "cell_type": "code",
   "execution_count": 9,
   "metadata": {},
   "outputs": [
    {
     "name": "stdout",
     "output_type": "stream",
     "text": [
      "This is from B\n"
     ]
    }
   ],
   "source": [
    "\n",
    "\n",
    "class A:\n",
    "    def __init__(self):\n",
    "        pass\n",
    "    def save(self):\n",
    "        print(\"This is from A\")\n",
    "        \n",
    "        \n",
    "class B(A):\n",
    "    def __init__(self):\n",
    "        pass\n",
    "    def save(self):\n",
    "        print(\"This is from B\")\n",
    "\n",
    "class C(A):\n",
    "    def __init__(self):\n",
    "        pass\n",
    "    def save(self):\n",
    "        print(\"This is from C\")\n",
    "\n",
    "class D(B, C):\n",
    "    def __init__(self):\n",
    "        pass\n",
    "#     def save(self):\n",
    "#         print(\"This is from D\")\n",
    "\n",
    "d = D()\n",
    "d.save()"
   ]
  },
  {
   "cell_type": "code",
   "execution_count": 10,
   "metadata": {},
   "outputs": [
    {
     "name": "stdout",
     "output_type": "stream",
     "text": [
      "This is from A\n"
     ]
    }
   ],
   "source": [
    "class A:\n",
    "    def __init__(self):\n",
    "        pass\n",
    "    def save(self):\n",
    "        print(\"This is from A\")\n",
    "        \n",
    "        \n",
    "class B(A):\n",
    "    def __init__(self):\n",
    "        pass\n",
    "#     def save(self):\n",
    "#         print(\"This is from B\")\n",
    "\n",
    "class C(A):\n",
    "    def __init__(self):\n",
    "        pass\n",
    "    def save(self):\n",
    "        print(\"This is from C\")\n",
    "\n",
    "class D(B, C):\n",
    "    def __init__(self):\n",
    "        pass\n",
    "#     def save(self):\n",
    "#         print(\"This is from D\")\n",
    "\n",
    "d = D()\n",
    "d.save()"
   ]
  },
  {
   "cell_type": "markdown",
   "metadata": {},
   "source": [
    "### 4.Python2.7下新式类搜索顺序-----广度优先顺序"
   ]
  },
  {
   "cell_type": "code",
   "execution_count": 11,
   "metadata": {},
   "outputs": [
    {
     "name": "stdout",
     "output_type": "stream",
     "text": [
      "This is from B\n"
     ]
    }
   ],
   "source": [
    "\n",
    "\n",
    "class A(object):\n",
    "    def __init__(self):\n",
    "        pass\n",
    "    def save(self):\n",
    "        print(\"This is from A\")\n",
    "\n",
    "class B(A):\n",
    "    def __init__(self):\n",
    "        pass\n",
    "    def save(self):\n",
    "        print(\"This is from B\")\n",
    "\n",
    "class C(A):\n",
    "    def __init__(self):\n",
    "        pass\n",
    "    def save(self):\n",
    "        print(\"This is from C\")\n",
    "\n",
    "class D(B, C):\n",
    "    def __init__(self):\n",
    "        pass\n",
    "#     def save(self):\n",
    "#         print(\"This is from D\")\n",
    "        \n",
    "d = D()\n",
    "d.save()"
   ]
  },
  {
   "cell_type": "markdown",
   "metadata": {},
   "source": []
  },
  {
   "cell_type": "code",
   "execution_count": 12,
   "metadata": {},
   "outputs": [
    {
     "name": "stdout",
     "output_type": "stream",
     "text": [
      "This is from C\n"
     ]
    }
   ],
   "source": [
    "class A(object):\n",
    "    def __init__(self):\n",
    "        pass\n",
    "    def save(self):\n",
    "        print(\"This is from A\")\n",
    "\n",
    "class B(A):\n",
    "    def __init__(self):\n",
    "        pass\n",
    "#     def save(self):\n",
    "#         print(\"This is from B\")\n",
    "\n",
    "class C(A):\n",
    "    def __init__(self):\n",
    "        pass\n",
    "    def save(self):\n",
    "        print(\"This is from C\")\n",
    "\n",
    "class D(B, C):\n",
    "    def __init__(self):\n",
    "        pass\n",
    "#     def save(self):\n",
    "#         print(\"This is from D\")\n",
    "        \n",
    "d = D()\n",
    "d.save()"
   ]
  },
  {
   "cell_type": "code",
   "execution_count": null,
   "metadata": {},
   "outputs": [],
   "source": []
  }
 ],
 "metadata": {
  "kernelspec": {
   "display_name": "Python 2",
   "language": "python",
   "name": "python2"
  },
  "language_info": {
   "codemirror_mode": {
    "name": "ipython",
    "version": 2
   },
   "file_extension": ".py",
   "mimetype": "text/x-python",
   "name": "python",
   "nbconvert_exporter": "python",
   "pygments_lexer": "ipython2",
   "version": "2.7.15"
  }
 },
 "nbformat": 4,
 "nbformat_minor": 2
}
